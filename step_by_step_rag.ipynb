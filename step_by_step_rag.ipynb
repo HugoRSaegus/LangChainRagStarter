{
 "cells": [
  {
   "cell_type": "markdown",
   "id": "8b3ab816",
   "metadata": {},
   "source": [
    "# Création d'un RAG"
   ]
  },
  {
   "cell_type": "markdown",
   "id": "cf00ecb7",
   "metadata": {},
   "source": [
    "## Récolte des données et préparation des chunks:"
   ]
  },
  {
   "cell_type": "code",
   "execution_count": 1,
   "id": "816aa336",
   "metadata": {},
   "outputs": [],
   "source": [
    "import re\n",
    "from bs4 import BeautifulSoup\n",
    "import requests\n",
    "\n",
    "\n",
    "ai_act_url = \"https://eur-lex.europa.eu/legal-content/FR/TXT/HTML/?uri=OJ:L_202401689\"\n",
    "soup = BeautifulSoup(requests.get(ai_act_url).content, \"html.parser\")\n",
    "text = []\n",
    "context = []\n",
    "section_type = []\n",
    "url = []\n",
    "url_sections = []\n",
    "url_chapitres = []\n"
   ]
  },
  {
   "cell_type": "markdown",
   "id": "32d81b88",
   "metadata": {},
   "source": [
    "&emsp;La préparation des données et métadonnées se fait ici à l'aide de **BeautifulSoup** et non pas les [**document loaders de LangChain**] (https://python.langchain.com/docs/how_to/#document-loaders) car il nous faut plus de contrôle sur la façon dont on sélectionne l'AI Act.\n",
    "\n",
    "&emsp; On cherche à le sélectionner en fonction de ses *Considérants*, *Chapitres*, *Sections* et *Articles*.\n",
    "\n",
    "Chacun de ces éléments sera accompagné de métadonnées telles qu'un lien à la section, le nom du chapitre et de l'article."
   ]
  },
  {
   "cell_type": "code",
   "execution_count": null,
   "id": "2ec26005",
   "metadata": {},
   "outputs": [],
   "source": [
    "# Préambule\n",
    "considerants = soup.find_all(\"div\", {\"class\":\"eli-subdivision\", \"id\": re.compile(r'rct_\\d+')})\n",
    "text += [considerant.text.strip() for considerant in considerants]\n",
    "context += [f\"Considérant {n+1}\" for n in range(len(considerants))]\n",
    "url += [ai_act_url+f\"#rct_{n+1}\" for n in range(len(considerants))]\n",
    "url_sections += [None for _ in range(len(considerants))]\n",
    "url_chapitres += [ai_act_url+\"#pbl_1\" for _ in range(len(considerants))]\n",
    "section_type += [\"considerant\"]*len(considerants)"
   ]
  },
  {
   "cell_type": "code",
   "execution_count": null,
   "id": "6622c3fb",
   "metadata": {},
   "outputs": [],
   "source": [
    "# Chapitre\n",
    "chapitres = soup.find(\"div\", {\"id\": \"enc_1\"}).find_all(\"div\", {\"id\": re.compile(r'cpt_[XVILC]+')}, recursive=False)\n",
    "articles = []\n",
    "\n",
    "def get_article_and_article_str(soup_element: BeautifulSoup):\n",
    "    _articles = soup_element.find_all(\"div\", {\"class\":\"eli-subdivision\", \"id\": re.compile(r'art_\\d+')})\n",
    "    article_strs = [\n",
    "        f\"Art.{article['id'].strip('art_')}-\"+article.find(\"div\", {\"class\": \"eli-title\"}).text for\n",
    "        article in _articles\n",
    "    ]\n",
    "    return _articles, article_strs\n",
    "\n",
    "for idx_ch, chapitre in enumerate(chapitres):\n",
    "    chapitre_url = ai_act_url+f\"#{chapitre['id']}\"\n",
    "    chapitre_str = f\"Ch.{idx_ch+1}-\"+chapitre.find(\"p\", {\"class\": \"oj-ti-section-2\"}).text.strip(\"\\n\")+\" > \"\n",
    "    chapitre_articles =  chapitre.find_all(\"div\", {\"class\":\"eli-subdivision\", \"id\": re.compile(r'art_\\d+')})\n",
    "    url_chapitres += [chapitre_url for _ in range(len(chapitre_articles))]\n",
    "    text += [article.text.strip() for article in chapitre_articles]\n",
    "    \n",
    "    section_str = \"\"\n",
    "    sections = chapitre.find_all(\"div\", {\"id\":re.compile(r'cpt_[XVILC]+.sct_\\d+')}, recursive=False)\n",
    "    \n",
    "    if sections:\n",
    "        for idx_sct, section in enumerate(sections):\n",
    "            _articles, article_strs = get_article_and_article_str(section)\n",
    "            articles += _articles\n",
    "            url_sections += [ai_act_url+f\"#{section['id']}\" for _ in range(len(_articles))]\n",
    "            section_str = f\"Sct.{idx_sct+1}-\"+section.find(\"p\", {\"class\": \"oj-ti-section-2\"}).text.strip(\"\\n\")+\" > \"\n",
    "            context += [chapitre_str+section_str+article_str for article_str in article_strs]\n",
    "    else:\n",
    "        _articles, article_strs = get_article_and_article_str(chapitre)\n",
    "        articles += _articles\n",
    "        context += [chapitre_str+article_str for article_str in article_strs]\n",
    "        url_sections += [None for _ in range(len(_articles))]\n",
    "section_type += [\"article\"]*len(articles)\n",
    "url += [ai_act_url+f\"#art_{n}\" for n in range(1,len(articles)+1)]"
   ]
  },
  {
   "cell_type": "code",
   "execution_count": null,
   "id": "ce129ace",
   "metadata": {},
   "outputs": [],
   "source": [
    "# Annexe\n",
    "annexes = soup.find_all(\"div\", {\"class\": \"eli-container\", \"id\": re.compile(r'anx_[XVILC]+')})\n",
    "titres_annexes = [annexe.find(\"p\", {\"class\": \"oj-doc-ti\", \"id\":None}).get_text() for annexe in annexes]\n",
    "\n",
    "text += [annexe.text.strip() for annexe in annexes]\n",
    "context += titres_annexes\n",
    "section_type += [\"annexe\"]*len(articles)\n",
    "url += [ai_act_url+f\"#{annexe['id']}\" for annexe in annexes]\n",
    "url_sections += [None for _ in range(len(annexes))]\n",
    "url_chapitres += [ai_act_url+\"#anx_I\" for _ in range(len(annexes))]\n",
    "\n",
    "texts = [f\"{context[idx]} \\n {text[idx]}\" for idx in range(len(text))]\n",
    "metadatas = [ \n",
    "    {\n",
    "        \"titre\":context[idx],\n",
    "        \"nature\": section_type[idx],\n",
    "        \"url\":url[idx],\n",
    "        \"url_chapitre\": url_chapitres[idx],\n",
    "        \"url_section\": url_sections[idx]\n",
    "    }\n",
    "    for idx in range(len(texts))\n",
    "]"
   ]
  },
  {
   "cell_type": "markdown",
   "id": "165db10e",
   "metadata": {},
   "source": [
    "## Préparation des Documents et des chunks avec[RecursiveCharaterTextSplitter](https://python.langchain.com/docs/how_to/recursive_text_splitter/). \n",
    "\n",
    "&emsp;La sélection de la taille des chunks et leur overlap peut avoir un impact significatif sur la performance de la recherche vectorielle par la suite et donc de la performance du RAG par derrière. \n",
    "\n",
    "&emsp;Ce [guide](https://www.machinelearningplus.com/gen-ai/optimizing-rag-chunk-size-your-definitive-guide-to-better-retrieval-accuracy/#:~:text=Optimal%20chunk%20size%20for%20RAG%20systems%20typically%20ranges,tokens%29%20provide%20better%20context%20for%20complex%20reasoning%20tasks.) donne une idée de structure d'évaluation pour déterminer les bons paramètres.\n",
    "\n",
    "&emsp;A titre d'exemple, on va utiliser des chunks de 256 characters avec un overlap de 10%. Une petite taille de chunk fera de notre RAG un outil paré pour répondre à des questions factuelles."
   ]
  },
  {
   "cell_type": "code",
   "execution_count": 9,
   "id": "47847c83",
   "metadata": {},
   "outputs": [],
   "source": [
    "from langchain_text_splitters import RecursiveCharacterTextSplitter\n",
    "from langchain_core.documents import Document\n",
    "\n",
    "text_splitter = RecursiveCharacterTextSplitter(\n",
    "    chunk_size = 1024, chunk_overlap = int(256*0.1), length_function=len\n",
    ")\n",
    "\n",
    "text_chunks: list[Document] = text_splitter.create_documents(texts=texts, metadatas=metadatas)"
   ]
  },
  {
   "cell_type": "markdown",
   "id": "8a8b2f24",
   "metadata": {},
   "source": [
    "## Création d'une base vectorielle. "
   ]
  },
  {
   "cell_type": "markdown",
   "id": "b164eabe",
   "metadata": {},
   "source": [
    "### Sur une ressource Azure AI Search"
   ]
  },
  {
   "cell_type": "markdown",
   "id": "80c4e859",
   "metadata": {},
   "source": [
    "#### Préparation des champs de la base vectorielle\n",
    "&emsp;Lors de la création d'une base vectorielle, il faut au préalable définir les champs de celle-ci ainsi que leur propriété. \n",
    "\n",
    "On peut notamment indiquer:\n",
    "- quels champs sont récupérables\n",
    "- sur lesquels peut-on trier la base\n",
    "- sur lesquels peut-on la filtrer\n",
    "\n",
    "&emsp;Dans cet exemple, on ajoute le champ **nature** qui est tiré des **métadonnées** (si un champ est défini avec un nom tiré d'une clé des métadonnées, les valeurs de cette dernière y seront inscrites). On pourra par la suite filtrer notre recherche si on souhaite avoir des résultats ne comprenant uniquement des *article*, des *considérant* ou des *annexe*."
   ]
  },
  {
   "cell_type": "code",
   "execution_count": 4,
   "id": "6f385e94",
   "metadata": {},
   "outputs": [],
   "source": [
    "from langchain_community.vectorstores.azuresearch import AzureSearch\n",
    "from azure.search.documents.indexes.models import SimpleField, SearchFieldDataType, SearchableField, SearchField\n",
    "from dotenv import load_dotenv\n",
    "from globals import EMBEDDINGS\n",
    "import os\n",
    "load_dotenv()\n",
    "\n",
    "# Attention, un champ qui est filtrable va agrandir la taille de l'index créé.\n",
    "fields = [\n",
    "    SimpleField(name=\"id\", type=SearchFieldDataType.String, key=True, sortable=True, filterable=True,),\n",
    "    SearchableField(name=\"content\", type=SearchFieldDataType.String, searchable=True),\n",
    "    SearchField(name=\"content_vector\", type=SearchFieldDataType.Collection(SearchFieldDataType.Single), vector_search_dimensions=1536, vector_search_profile_name=\"myHnswProfile\", searchable=True),\n",
    "    SearchableField(name=\"metadata\", type=SearchFieldDataType.String, searchable=True, filterable=True),\n",
    "    SearchableField(name=\"nature\", type=SearchFieldDataType.String, searchable=True, filterable=True),\n",
    "]\n",
    "\n",
    "# Création ou Instanciation de la base vectorielle. Si l'index n'existe pas, il sera créé puis il pourra être utilisé via la variable vector_store,\n",
    "vector_store = AzureSearch(\n",
    "    azure_search_endpoint=os.environ[\"SEARCH_ENDPOINT\"],\n",
    "    azure_search_key=os.environ[\"SEARCH_KEY\"],\n",
    "    index_name=os.environ[\"SEARCH_INDEX\"],\n",
    "    embedding_function=EMBEDDINGS.embed_query,\n",
    "    additional_search_client_options={\"retry_total\": 4},\n",
    "    fields=fields\n",
    ")\n",
    "\n",
    "# Si l'index vient d'être créé, il faut alors y ajouter les chunks créés auparavant.\n",
    "# vector_store.add_documents(text_chunks)"
   ]
  },
  {
   "cell_type": "markdown",
   "id": "ce5fb6ac",
   "metadata": {},
   "source": [
    "##### Testez la recherche sémantique"
   ]
  },
  {
   "cell_type": "code",
   "execution_count": 17,
   "id": "7992fc7e",
   "metadata": {},
   "outputs": [
    {
     "name": "stdout",
     "output_type": "stream",
     "text": [
      "Ch.13-DISPOSITIONS FINALES > Art.111-\n",
      "Systèmes d’IA déjà mis sur le marché ou mis en service et modèles d’IA à usage général déjà mis sur le marché\n",
      " \n",
      " Article 111\n",
      "\n",
      "Systèmes d’IA déjà mis sur le marché ou mis en service et modèles d’IA à usage général déjà mis sur le marché\n",
      "\n",
      "\n",
      "1.   Sans préjudice de l’application de l’article 5 visée à l’article 113, paragraphe 3, point a), les systèmes d’IA qui sont des composants des systèmes d’information à grande échelle établis par les actes juridiques énumérés à l’annexe X et mis sur le marché ou mis en service avant le 2 août 2027 sont mis en conformité avec le présent règlement au plus tard le 31 décembre 2030.\n",
      "Il est tenu compte des exigences énoncées dans le présent règlement lors de l’évaluation de chaque système d’information à grande échelle établi par les actes juridiques énumérés à l’annexe X devant être effectuée conformément à ces actes juridiques et lorsque ces actes juridiques sont remplacés ou modifiés.\n",
      "\n",
      "en soi, constituer une monétisation.\n",
      "\n",
      "Si les déployeurs sont des établissements financiers soumis à des exigences relatives à leur gouvernance, à leurs dispositifs ou à leurs processus internes prévues par la législation de l’Union sur les services financiers, la conformité avec les règles relatives à la gouvernance, aux dispositifs, aux processus et aux mécanismes internes prévues dans la législation sur les services financiers vaut respect de l’obligation de surveillance énoncée au premier alinéa.\n",
      "\n",
      "2.   Sans préjudice de l’application de l’article 5 visée à l’article 113, paragraphe 3, point a), le présent règlement s’applique aux opérateurs de systèmes d’IA à haut risque, autres que les systèmes visés au paragraphe 1 du présent article, qui ont été mis sur le marché ou mis en service avant le 2 août 2026, uniquement si, à compter de cette date, ces systèmes subissent d’importantes modifications de leurs conceptions. En tout état de cause, les fournisseurs et les déployeurs de systèmes d’IA à haut risque destinés à être utilisés par des autorités publiques prennent les mesures nécessaires pour se conformer aux exigences et obligations du présent règlement au plus tard le 2 août 2030.\n",
      "\n",
      "\n",
      "3.   Les fournisseurs de modèles d’IA à usage général qui ont été mis sur le marché avant le 2 août 2025 prennent les mesures nécessaires pour se conformer aux obligations prévues par le présent règlement au plus tard le 2 août 2027.\n",
      "\n",
      "3.   Le présent règlement ne s’applique pas aux domaines qui ne relèvent pas du champ d’application du droit de l’Union et, en tout état de cause, ne porte pas atteinte aux compétences des États membres en matière de sécurité nationale, quel que soit le type d’entité chargée par les États membres d’exécuter des tâches liées à ces compétences.\n",
      "Le présent règlement ne s’applique pas aux systèmes d’IA si et dans la mesure où ils sont mis sur le marché, mis en service ou utilisés avec ou sans modifications exclusivement à des fins militaires, de défense ou de sécurité nationale, quel que soit le type d’entité exerçant ces activités.\n",
      "Le présent règlement ne s’applique pas aux systèmes d’IA qui ne sont pas mis sur le marché ou mis en service dans l’Union, lorsque les sorties sont utilisées dans l’Union exclusivement à des fins militaires, de défense ou de sécurité nationale, quel que soit le type d’entité exerçant ces activités.\n"
     ]
    }
   ],
   "source": [
    "search_docs = vector_store.similarity_search(query=\"Service payant\", k=5)\n",
    "print(\"\\n\\n\".join(search_doc.page_content for search_doc in search_docs))"
   ]
  },
  {
   "cell_type": "markdown",
   "id": "db9abd46",
   "metadata": {},
   "source": [
    "### Sur une base locale\n",
    "\n",
    "Si vous n'avez pas d'accès Azure, il est également possible de créer des bases vectorielles localement avec des modèles de vectorisation et un modèle LLM gratuit.\n",
    "\n",
    "- [Vector Stores](https://python.langchain.com/docs/integrations/vectorstores/)\n",
    "- [Embedding Models](https://python.langchain.com/docs/integrations/text_embedding/)\n",
    "- [Chat Models](https://python.langchain.com/docs/integrations/chat/)"
   ]
  },
  {
   "cell_type": "markdown",
   "id": "cc3aab37",
   "metadata": {},
   "source": [
    "#### Appel Programmatique à un LLM\n",
    "Pour faire appel à un LLM, Langchain propose des classes spécifiques à chaque LLM(eg Anthropic, OpenAI, [AzureOpenAI](https://python.langchain.com/docs/integrations/chat/azure_chat_openai/#model-features)).\n",
    "\n",
    "Celles-ci peuvent être instanciées à l'aide des clés API et endpoints nécessaires (voir la doc Langchain pour plus de détails).\n",
    "\n",
    "Comme dit dans le README, on va utiliser les variables du.env pour instantaner une classe de chat complétion AzureOpenAI"
   ]
  },
  {
   "cell_type": "code",
   "execution_count": 7,
   "id": "2d7dc777",
   "metadata": {},
   "outputs": [
    {
     "data": {
      "text/plain": [
       "'Whispers in the breeze,  \\nLeaves dance under autumn skies,  \\nTime drifts gently by.'"
      ]
     },
     "execution_count": 7,
     "metadata": {},
     "output_type": "execute_result"
    }
   ],
   "source": [
    "from langchain_openai import AzureChatOpenAI\n",
    "from langchain_core.documents import Document\n",
    "from langchain_core.rate_limiters import InMemoryRateLimiter\n",
    "from dotenv import load_dotenv\n",
    "load_dotenv()\n",
    "\n",
    "rate_limiter = InMemoryRateLimiter(\n",
    "        requests_per_second=10,\n",
    "        check_every_n_seconds=0.1,\n",
    "        max_bucket_size=10\n",
    "    )\n",
    "\n",
    "llm = AzureChatOpenAI(\n",
    "    azure_endpoint=os.environ[\"AZURE_OPENAI_API_ENDPOINT\"],\n",
    "    azure_deployment=os.environ[\"AZURE_OPENAI_DEPLOYMENT_NAME\"],\n",
    "    openai_api_version=os.environ[\"AZURE_OPENAI_API_VERSION\"],\n",
    "    api_key=os.environ[\"AZURE_OPENAI_API_KEY\"],\n",
    "    rate_limiter=rate_limiter,\n",
    "    streaming=True,\n",
    "    seed=42\n",
    ")\n",
    "\n",
    "llm.invoke(\"Write me a Haiku\").content"
   ]
  },
  {
   "cell_type": "markdown",
   "id": "b72e3a55",
   "metadata": {},
   "source": [
    "#### Conception de Prompts via les [Templates LangChain](https://python.langchain.com/docs/concepts/prompt_templates/)"
   ]
  },
  {
   "cell_type": "markdown",
   "id": "38132a51",
   "metadata": {},
   "source": [
    "##### Définition du format des promptes\n",
    "\n",
    "Afin de proprement définir le comportement d'une application LLM, les **PropmtTemplate** permettent de structurer les instructions et questions ingéré par le modèle.\n",
    "\n",
    "Ici notre prompte doit tenir compte de la question utilisateur et du contexte renvoyé par la base vectorielle."
   ]
  },
  {
   "cell_type": "code",
   "execution_count": 5,
   "id": "111836bf",
   "metadata": {},
   "outputs": [
    {
     "name": "stderr",
     "output_type": "stream",
     "text": [
      "<>:21: SyntaxWarning: invalid escape sequence '\\R'\n",
      "<>:21: SyntaxWarning: invalid escape sequence '\\R'\n",
      "C:\\Users\\HugoRECHATIN\\AppData\\Local\\Temp\\ipykernel_20008\\3306373742.py:21: SyntaxWarning: invalid escape sequence '\\R'\n",
      "  \\Réponse:\"\"\"\n"
     ]
    }
   ],
   "source": [
    "from langchain_core.prompts import HumanMessagePromptTemplate, PromptTemplate, ChatPromptTemplate\n",
    "\n",
    "setup_prompt = ChatPromptTemplate(\n",
    "    input_variables=['context', 'question'],\n",
    "    messages=[\n",
    "        HumanMessagePromptTemplate(\n",
    "            prompt=PromptTemplate(\n",
    "                input_variables=['context', 'question'], \n",
    "                input_types={}, \n",
    "                partial_variables={}, \n",
    "                template=\"\"\"\n",
    "                Tu est un expert legal qui conseil l'utilisateur sur toute question en lien avec l'AI Act. \n",
    "                \n",
    "                En te basant sur le context suivant, répond à la question.  \n",
    "                Si il n'y à pas de context fourni ou que sont rapport à la question est marginal, précède ta réponse par la note suivante:\n",
    "\n",
    "                \"Ma base de connaissance semble limité pour répondre à votre question, les éléments de réponse suivant doivent être pris avec des pincettes !\" \n",
    "\n",
    "                \\nQuestion: {question}\n",
    "                \\nContext: {context} \n",
    "                \\Réponse:\"\"\"\n",
    "            ), additional_kwargs={}\n",
    "        )\n",
    "    ]\n",
    ")"
   ]
  },
  {
   "cell_type": "markdown",
   "id": "dc773661",
   "metadata": {},
   "source": [
    "#### State Graph\n",
    "\n",
    "Le **StateGraph** de [**LangGraph**](https://langchain-ai.github.io/langgraph/?_gl=1*q59ke1*_gcl_au*MTM1MDQ3OTk4OS4xNzUwODU3NDI4*_ga*NjYwNjA0NDQ4LjE3NDU0MTg0NTA.*_ga_47WX3HKKY2*czE3NTE2MzkyMTUkbzU0JGcxJHQxNzUxNjM5MjE1JGo2MCRsMCRoMA..) sert à coordonner les requêtes et réponses du *LLM* et du *Retriver*.\n",
    "\n",
    "Les StateGraph sont des machines d'états avec lesquelles on peut agencer les différents appels LLM en fonction d'une séquence d'états. Chaque État va exécuter un code et modifier les valeurs de l'état.\n",
    "\n",
    "La séquence ainsi définie permet d'assurer que les appels LLM ne s'empiètent pas."
   ]
  },
  {
   "cell_type": "code",
   "execution_count": 8,
   "id": "37dab742",
   "metadata": {},
   "outputs": [
    {
     "data": {
      "image/png": "[encoded data removed]",
      "text/plain": [
       "<IPython.core.display.Image object>"
      ]
     },
     "metadata": {},
     "output_type": "display_data"
    }
   ],
   "source": [
    "from typing_extensions import List, TypedDict\n",
    "from langgraph.graph import START, StateGraph\n",
    "from langchain_community.vectorstores.azuresearch import AzureSearchVectorStoreRetriever\n",
    "from IPython.display import Image, display\n",
    "\n",
    "class State(TypedDict):\n",
    "    question: str\n",
    "    context: List[Document]\n",
    "    answer: str\n",
    "\n",
    "retriever: AzureSearchVectorStoreRetriever = vector_store.as_retriever()\n",
    "\n",
    "def retrieve(state: State):   \n",
    "    \"\"\"Appel vers la base vectorielle \"\"\"\n",
    "    retrieved_docs = retriever.invoke(state[\"question\"])\n",
    "    return {\"context\": retrieved_docs}\n",
    "\n",
    "def generate(state: State):\n",
    "    docs_content = \"\\n\".join(doc.page_content for doc in state[\"context\"])\n",
    "    messages = setup_prompt.invoke({\"question\": state[\"question\"], \"context\": docs_content})\n",
    "    response = llm.invoke(messages)\n",
    "    return {\"answer\": response.content}\n",
    "\n",
    "graph_builder = StateGraph(State).add_sequence([retrieve, generate])\n",
    "graph_builder.add_edge(START, \"retrieve\")\n",
    "rag = graph_builder.compile()\n",
    "\n",
    "# On peut obtenir un schémas de notre machine d'états grâce à la ligne suivante.\n",
    "display(Image(rag.get_graph().draw_mermaid_png()))"
   ]
  },
  {
   "cell_type": "markdown",
   "id": "38055939",
   "metadata": {},
   "source": [
    "#### Tester le RAG\n",
    "On peut utiliser le stream avec le mode **update** afin d'observer la progression de nos requêtes à travers le graphe d'états."
   ]
  },
  {
   "cell_type": "code",
   "execution_count": 27,
   "id": "66969a8a",
   "metadata": {},
   "outputs": [
    {
     "name": "stdout",
     "output_type": "stream",
     "text": [
      "{'retrieve': {'context': [Document(metadata={'id': 'NmI3NzM5ZTctODdlYy00NzlhLWE2YjQtMTE1ZjBjNjZmMzFi', 'titre': 'Ch.4-OBLIGATIONS DE TRANSPARENCE POUR LES FOURNISSEURS ET LES DÉPLOYEURS DE CERTAINS SYSTÈMES D’IA > Art.50-\\nObligations de transparence pour les fournisseurs et les déployeurs de certains systèmes d’IA\\n', 'nature': 'article', 'url': 'https://eur-lex.europa.eu/legal-content/FR/TXT/HTML/?uri=OJ:L_202401689#art_50', 'url_chapitre': 'https://eur-lex.europa.eu/legal-content/FR/TXT/HTML/?uri=OJ:L_202401689#cpt_IV', 'url_section': None}, page_content='3.\\xa0\\xa0\\xa0Les déployeurs d’un système de reconnaissance des émotions ou d’un système de catégorisation biométrique informent les personnes physiques qui y sont exposées du fonctionnement du système et traitent les données à\\xa0caractère personnel conformément au règlement (UE) 2016/679, au règlement (UE) 2018/1725 et à\\xa0la directive (UE) 2016/680, selon le cas. Cette obligation ne s’applique pas aux systèmes d’IA utilisés pour la catégorisation biométrique et la reconnaissance des émotions dont la loi autorise l’utilisation à\\xa0des fins de prévention ou de détection des infractions pénales ou d’enquêtes en la matière, sous réserve de garanties appropriées pour les droits et libertés des tiers et conformément au droit de l’Union.'), Document(metadata={'id': 'ZjhjNTYwMGEtODk5MS00NjFlLTk5OGEtOWQ0ZjM5OGE4NmVk', 'titre': 'Considérant 43', 'nature': 'considerant', 'url': 'https://eur-lex.europa.eu/legal-content/FR/TXT/HTML/?uri=OJ:L_202401689#rct_43', 'url_chapitre': 'https://eur-lex.europa.eu/legal-content/FR/TXT/HTML/?uri=OJ:L_202401689#pbl_1', 'url_section': None}, page_content='Considérant 43 \\n (43)\\n\\n\\nIl y a\\xa0lieu d’interdire la mise sur le marché, la mise en service à\\xa0cette fin spécifique ou l’utilisation de systèmes d’IA qui créent ou développent des bases de données de reconnaissance faciale par le moissonnage non ciblé d’images faciales provenant de l’internet ou de la vidéosurveillance, parce que cette pratique ne fait qu’accentuer le sentiment de surveillance de masse et peut entraîner des violations flagrantes des droits fondamentaux, y compris du droit au respect de la vie privée.'), Document(metadata={'id': 'ZTNiMzYwYzItMDE5Ny00ZTg5LWJlMTItNTJiZjlkMTJjZThh', 'titre': 'Ch.2-PRATIQUES INTERDITES EN MATIÈRE D’IA > Art.5-\\nPratiques interdites en matière d’IA\\n', 'nature': 'article', 'url': 'https://eur-lex.europa.eu/legal-content/FR/TXT/HTML/?uri=OJ:L_202401689#art_5', 'url_chapitre': 'https://eur-lex.europa.eu/legal-content/FR/TXT/HTML/?uri=OJ:L_202401689#cpt_II', 'url_section': None}, page_content='7.\\xa0\\xa0\\xa0La Commission publie des rapports annuels sur l’utilisation de systèmes d’identification biométriques à\\xa0distance en temps réel dans des espaces accessibles au public à\\xa0des fins répressives, fondés sur des données agrégées dans les États membres sur la base des rapports annuels visés au paragraphe\\xa06. Ces rapports annuels n’incluent pas de données opérationnelles sensibles sur les activités répressives connexes.\\n\\n\\n8.\\xa0\\xa0\\xa0Le présent article ne porte pas atteinte aux interdictions qui s’appliquent lorsqu’une pratique en matière d’IA enfreint d’autres dispositions du droit de l’Union.'), Document(metadata={'id': 'YzA3NzFhNWYtOGE5Zi00OGJmLWE0Y2EtMzBmZDkyMmRkNTNm', 'titre': 'Considérant 17', 'nature': 'considerant', 'url': 'https://eur-lex.europa.eu/legal-content/FR/TXT/HTML/?uri=OJ:L_202401689#rct_17', 'url_chapitre': 'https://eur-lex.europa.eu/legal-content/FR/TXT/HTML/?uri=OJ:L_202401689#pbl_1', 'url_section': None}, page_content='l’utilisation d’éléments «en direct» ou «en léger différé», comme des séquences vidéo, générés par une caméra ou un autre appareil doté de fonctionnalités similaires. Dans le cas des systèmes «a posteriori», en revanche, les données biométriques sont prélevées dans un premier temps et la comparaison et l’identification n’ont lieu qu’après un délai substantiel. Cela suppose des éléments tels que des images ou des séquences vidéo, qui ont été générés par des caméras de télévision en circuit fermé ou des appareils privés avant l’utilisation du système à\\xa0l’égard des personnes physiques concernées.')]}}\n",
      "{'generate': {'answer': 'L\\'application des algorithmes de reconnaissance faciale dans le contexte de l\\'AI Act est abordée dans plusieurs articles et considérants, et se concentre principalement sur l\\'utilisation de systèmes d\\'identification biométrique, leur impact sur les droits fondamentaux, et les obligations associées. Voici les points-clés pertinents dans le cadre que vous avez fourni :\\n\\n1. **Obligation d\\'information et conformité réglementaire** :\\n   Le **context** mentionne que les déployeurs de systèmes de reconnaissance faciale ou de catégorisation biométrique doivent **informer les personnes physiques exposées** au fonctionnement de ces systèmes et respecter les cadres de protection des données établis par le **règlement (UE) 2016/679** (RGPD), le **règlement (UE) 2018/1725**, et la **directive (UE) 2016/680**. Ces exigences sont renforcées pour garantir que les usages des technologies de reconnaissance faciale respectent la vie privée et les autres droits fondamentaux des individus.\\n\\n   - Exception : Les obligations d\\'information ne s\\'appliquent pas aux systèmes d\\'IA utilisés pour des **fins répressives** (prévention de délits ou enquêtes), à condition que des garanties appropriées soient mises en place, conformément au droit de l\\'Union.\\n\\n2. **Interdiction de certaines pratiques** (Considérant 43) :\\n   Le **Considérant 43** interdit explicitement la mise sur le marché, la mise en service ou l\\'utilisation de systèmes d\\'IA qui reposent sur le **moissonnage non ciblé d\\'images faciales** sur internet ou des fichiers de vidéosurveillance afin de créer ou développer des bases de données de reconnaissance faciale. Cela vise à protéger les droits fondamentaux et à limiter le **sentiment de surveillance de masse**.\\n\\n3. **Surveillance de l’utilisation des systèmes biométriques à distance** :\\n   L\\'article mentionne une obligation pour la **Commission européenne** de publier des **rapports annuels** sur l’utilisation des systèmes d’identification biométrique à distance en temps réel dans des espaces publics à des fins répressives. Ces rapports, fondés sur des données agrégées des États membres, excluent les **données opérationnelles sensibles**.\\n\\n4. **Distinction entre systèmes en \"direct\" et \"a posteriori\"** :\\n   Le cadre opérationnel des systèmes de reconnaissance faciale est précisé :\\n   - **Systèmes \"en direct\" ou \"en léger différé\"** utilisent des données générées instantanément par une caméra ou appareil similaire.\\n   - **Systèmes \"a posteriori\"** travaillent sur des données collectées en amont (ex. : images ou vidéos issues de caméras de vidéosurveillance).\\n\\n5. **Impact sur les droits fondamentaux** :\\n   L\\'AI Act met l\\'accent sur la nécessité de garanties lors du traitement des données biométriques, notamment pour éviter que l\\'utilisation de la reconnaissance faciale ne conduise à des violations massives des droits fondamentaux, tels que le droit à la vie privée.\\n\\n### Articles pertinents :\\nBien que votre context ne cite pas de numéros d\\'articles spécifiques, les éléments indiqués renvoient probablement aux articles **5**, **10 à 15**, ainsi qu\\'au **Chapitre II** (Classification et obligations applicables aux systèmes d\\'IA). Par exemple :\\n- **Article 5** (Interdiction des pratiques spécifiques) traite des interdictions générales, notamment les usages non ciblés ou massifs de la reconnaissance faciale.\\n- **Articles 10 à 15** abordent les exigences de transparence, de documentation et de suivi pour les systèmes à haut risque, dont les algorithmes de reconnaissance faciale utilisés en contexte répressif pourraient faire partie.\\n\\nEn résumé, les algorithmes de reconnaissance faciale dans l\\'AI Act sont encadrés par des dispositions précises visant à limiter les abus, protéger la vie privée des individus, et garantir une utilisation conforme aux droits fondamentaux et aux objectifs légitimes (ex. : maintien de l\\'ordre). Les déployeurs doivent garantir la transparence, éviter les pratiques interdites, et respecter les obligations spécifiques telles que mentionnées.'}}\n"
     ]
    }
   ],
   "source": [
    "for step in rag.stream(\n",
    "    {\"question\": \"Quels articles address l'application d'algorithme de reconnaissance facial ?\"},\n",
    "    stream_mode=\"updates\"\n",
    "):\n",
    "    print(step)"
   ]
  },
  {
   "cell_type": "code",
   "execution_count": 28,
   "id": "f224518c",
   "metadata": {},
   "outputs": [
    {
     "name": "stdout",
     "output_type": "stream",
     "text": [
      "Selon le contexte fourni, l'utilisation des systèmes de reconnaissance faciale sous le cadre de l'AI Act est soumise à des restrictions strictes et ne peut être considérée comme légale que dans des circonstances spécifiques. Voici les principaux points tirés du contexte :\n",
      "\n",
      "1. **Obligation d'information et conformité aux règlements** :\n",
      "   Les déployeurs de systèmes de reconnaissance faciale doivent informer les personnes exposées au fonctionnement de ces systèmes. En outre, ils doivent traiter les données personnelles conformément aux réglementations en vigueur, notamment le **Règlement Général sur la Protection des Données (RGPD)** (UE 2016/679), le règlement (UE) 2018/1725 et la directive (UE) 2016/680 concernant les données personnelles.\n",
      "\n",
      "   Cependant, cette obligation **ne s'applique pas aux systèmes utilisés dans un cadre légal** à des fins de prévention ou détection des infractions pénales, ou pour des enquêtes en la matière. Dans ce cas, des garanties appropriées doivent être prévues pour protéger les droits et libertés des tiers.\n",
      "\n",
      "   > *\"Cette obligation ne s’applique pas aux systèmes d’IA utilisés pour la catégorisation biométrique et la reconnaissance des émotions dont la loi autorise l’utilisation à des fins de prévention ou de détection des infractions pénales ou d’enquêtes en la matière, sous réserve de garanties appropriées pour les droits et libertés des tiers et conformément au droit de l’Union.\"*\n",
      "\n",
      "2. **Interdiction de certaines pratiques de reconnaissance faciale** :\n",
      "   L'AI Act interdit **la mise sur le marché ou l'utilisation de systèmes de reconnaissance faciale qui fonctionnent par moissonnage non ciblé d'images faciales**, que ce soit à partir d'Internet ou de dispositifs de vidéosurveillance. Cette interdiction vise à éviter les effets de surveillance de masse et les violations graves des droits fondamentaux, tels que le respect de la vie privée.\n",
      "\n",
      "   > *\"Il y a lieu d’interdire la mise sur le marché, la mise en service à cette fin spécifique ou l’utilisation de systèmes d’IA qui créent ou développent des bases de données de reconnaissance faciale par le moissonnage non ciblé d’images faciales provenant de l’internet ou de la vidéosurveillance, parce que cette pratique ne fait qu’accentuer le sentiment de surveillance de masse et peut entraîner des violations flagrantes des droits fondamentaux, y compris du droit au respect de la vie privée.\"*\n",
      "\n",
      "3. **Utilisation dans des circonstances répressives** :\n",
      "   L'utilisation des systèmes d'identification biométrique à distance « en temps réel » dans les espaces publics peut être autorisée **uniquement à des fins de répression**, et ce dans des circonstances très strictement encadrées. Ces conditions incluent :\n",
      "   - La nécessité et la proportionnalité de l'utilisation par rapport à des objectifs légitimes définis.\n",
      "   - Une limitation temporelle, géographique et personnelle de l'utilisation, en lien avec la situation spécifique.\n",
      "   - Une vérification basée sur des preuves ou des indications claires concernant les menaces ou les auteurs ciblés.\n",
      "   - L'interdiction de prendre des décisions à effets juridiques défavorables uniquement sur la base des sorties du système de reconnaissance faciale.\n",
      "\n",
      "   > *\"L’utilisation, à des fins répressives, de systèmes d’identification biométrique à distance «en temps réel» dans des espaces accessibles au public ne devrait être déployée que pour confirmer l’identité de la personne spécifiquement ciblée et elle devrait être limitée au strict nécessaire dans le temps, ainsi que du point de vue de la portée géographique et personnelle, eu égard en particulier aux preuves ou aux indications concernant les menaces, les victimes ou les auteurs.\"*\n",
      "\n",
      "### En résumé :\n",
      "L'utilisation des systèmes de reconnaissance faciale reste légale sous l'AI Act **dans des situations précises et très encadrées**, telles que les enquêtes pénales, la prévention ou détection des infractions, et à des fins répressives dans des espaces publics avec des garanties substantielles. En revanche, toute pratique de moissonnage non ciblé d'images faciales à des fins de reconnaissance ou la mise sur le marché de tels systèmes est interdite.\n",
      "\n",
      "Pour toute autre utilisation, elle devra être conforme aux exigences du RGPD et aux autres règlements en matière de protection des données personnelles.\n"
     ]
    }
   ],
   "source": [
    "print(rag.invoke({\"question\": \"Selon l'ai act est il légale d'utilisé un modéle de reconnaissance facial et si oui dans quelles circonstance. Répond avec les citation aux informations donné par le context.\"})[\"answer\"])"
   ]
  },
  {
   "cell_type": "markdown",
   "id": "4b211c6b",
   "metadata": {},
   "source": [
    "#### Prochaines étapes:\n",
    "Pour les prochains points, consultez les fichiers rag_chat.py et rag_simple.py \n",
    "- Ajouter un **analyste de question utilisateurs** pour les convertir en requêtes de recherche vectorielle pertinentes. \n",
    "- Formater les réponses du RAG de sorte à ce que les liens vers les sections de l'ai act y soient cliquables\n",
    "- Créer une application chat standard via Streamlit\n",
    "- Ajouter une fenêtre contextuelle pour que les questions puissent référencer la chaîne de messages."
   ]
  },
  {
   "cell_type": "markdown",
   "id": "61d3cb31",
   "metadata": {},
   "source": [
    "#### rag_simple"
   ]
  },
  {
   "cell_type": "code",
   "execution_count": 1,
   "id": "878485f0",
   "metadata": {},
   "outputs": [],
   "source": [
    "from rag_simple import get_compiled_rag\n",
    "from IPython.display import Image, display\n",
    "\n",
    "rag_simple = get_compiled_rag()"
   ]
  },
  {
   "cell_type": "markdown",
   "id": "4bc47c45",
   "metadata": {},
   "source": [
    "#### rag_chat"
   ]
  },
  {
   "cell_type": "code",
   "execution_count": 2,
   "id": "4ad33a10",
   "metadata": {},
   "outputs": [
    {
     "data": {
      "image/png": "[encoded data removed]",
      "text/plain": [
       "<IPython.core.display.Image object>"
      ]
     },
     "metadata": {},
     "output_type": "display_data"
    },
    {
     "data": {
      "image/png": "[encoded data removed]",
      "text/plain": [
       "<IPython.core.display.Image object>"
      ]
     },
     "metadata": {},
     "output_type": "display_data"
    }
   ],
   "source": [
    "from rag_chat import get_compiled_rag\n",
    "\n",
    "rag_chat = get_compiled_rag()\n",
    "\n",
    "display(Image(rag_simple.get_graph().draw_mermaid_png()), Image(rag_chat.get_graph().draw_mermaid_png()))"
   ]
  },
  {
   "cell_type": "markdown",
   "id": "ce6379ba",
   "metadata": {},
   "source": [
    "On peut voir en comparant les 2 graphs que d'un côté, chaque étape du RAG doit être traversée lorsqu'un utilisateur lance une requête au **rag_simple** alors que avec le **rag_chat**, l'état query_or_respond peut directement répondre si la réponse ne concerne pas l'AI Act ou si elle concerne des messages en mémoire.\n",
    "\n",
    "Vu que le rag_chat est composé d'une chaîne de **messages LangChaines**, on peut streamer la réponse à notre requête en utilisant BaseMessage.pretty_print"
   ]
  },
  {
   "cell_type": "code",
   "execution_count": 3,
   "id": "517fdef1",
   "metadata": {},
   "outputs": [
    {
     "name": "stdout",
     "output_type": "stream",
     "text": [
      "================================\u001b[1m Human Message \u001b[0m=================================\n",
      "\n",
      "Quels annexes address l'application d'algorithme de reconnaissance facial ?\n",
      "==================================\u001b[1m Ai Message \u001b[0m==================================\n",
      "Tool Calls:\n",
      "  retrieve (call_A5VnaT9nPpaR5UoBGpeAcUK5)\n",
      " Call ID: call_A5VnaT9nPpaR5UoBGpeAcUK5\n",
      "  Args:\n",
      "    question: Quels annexes address l'application d'algorithme de reconnaissance facial ?\n",
      "=================================\u001b[1m Tool Message \u001b[0m=================================\n",
      "Name: retrieve\n",
      "\n",
      "Source: {'id': 'MmIxZTJjZDUtOGIxNi00NWQyLTkxODgtMDExYWUxNmExNGMy', 'titre': \"Systèmes d'IA à\\xa0haut risque visés à\\xa0l'article\\xa06, paragraphe\\xa02\", 'nature': 'annexe', 'url': 'https://eur-lex.europa.eu/legal-content/FR/TXT/HTML/?uri=OJ:L_202401689#anx_III', 'url_chapitre': 'https://eur-lex.europa.eu/legal-content/FR/TXT/HTML/?uri=OJ:L_202401689##anx_I', 'url_section': None}Content: Systèmes d'IA à haut risque visés à l'article 6, paragraphe 2 \n",
      " ANNEXE III\n",
      "Systèmes d'IA à haut risque visés à l'article 6, paragraphe 2\n",
      "Les systèmes d'IA à haut risque au sens de l'article 6, paragraphe 2, sont les systèmes d'IA répertoriés dans l'un des domaines suivants:\n",
      "\n",
      "\n",
      "\n",
      "\n",
      "\n",
      "\n",
      "1.\n",
      "\n",
      "\n",
      "Biométrie, dans la mesure où leur utilisation est autorisée par le droit de l'Union ou le droit national applicable:\n",
      "\n",
      "\n",
      "\n",
      "\n",
      "\n",
      "\n",
      "a)\n",
      "\n",
      "\n",
      "systèmes d'identification biométrique à distance.\n",
      "Cela n'inclut pas les systèmes d'IA destinés à être utilisés à des fins de vérification biométrique dont la seule finalité est de confirmer qu'une personne physique spécifique est la personne qu'elle prétend être;\n",
      "\n",
      "\n",
      "\n",
      "\n",
      "\n",
      "\n",
      "\n",
      "\n",
      "\n",
      "\n",
      "b)\n",
      "\n",
      "\n",
      "systèmes d'IA destinés à être utilisés à des fins de catégorisation biométrique, en fonction d'attributs ou de caractéristiques sensibles ou protégés, sur la base de la déduction de ces attributs ou de ces caractéristiques;\n",
      "\n",
      "\n",
      "\n",
      "\n",
      "\n",
      "\n",
      "\n",
      "\n",
      "\n",
      "\n",
      "c)\n",
      "\n",
      "\n",
      "systèmes d'IA destinés à être utilisés pour la reconnaissance des émotions.\n",
      "\n",
      "\n",
      "\n",
      "\n",
      "\n",
      "\n",
      "\n",
      "\n",
      "\n",
      "\n",
      "\n",
      "\n",
      "\n",
      "\n",
      "2.\n",
      "Source: {'id': 'MzkyYzdjNDUtNGI0My00N2RhLWE2M2MtMzM4MTQ2MDU1NWQ5', 'titre': \"Actes législatifs de l'Union relatifs aux systèmes d'information à\\xa0grande échelle au sein de l'espace de liberté, de sécurité et de justice\", 'nature': 'annexe', 'url': 'https://eur-lex.europa.eu/legal-content/FR/TXT/HTML/?uri=OJ:L_202401689#anx_X', 'url_chapitre': 'https://eur-lex.europa.eu/legal-content/FR/TXT/HTML/?uri=OJ:L_202401689##anx_I', 'url_section': None}Content: 3.   Eurodac\n",
      "Règlement (UE) 2024/1358 du Parlement européen et du Conseil du 14 mai 2024 relatif à la création d'«Eurodac» pour la comparaison des données biométriques aux fins de l'application efficace des règlements (UE) 2024/1315, (UE) 2024/1350 du Parlement européen et du Conseil et de la directive 2001/55/CE du Conseil et aux fins de l'identification des ressortissants de pays tiers et apatrides en séjour irrégulier, et relatif aux demandes de comparaison avec les données d'Eurodac présentées par les autorités répressives des États membres et par Europol à des fins répressives, modifiant les règlements (UE) 2018/1240 et (UE) 2019/818 du Parlement européen et du Conseil et abrogeant le règlement (UE) no 603/2013 du Parlement européen et du Conseil (JO L, 2024/1358, 22.5.2024, ELI: http://data.europa.eu/eli/reg/2024/1358/oj).\n",
      "4.   Système d'entrée/de sortie\n",
      "Source: {'id': 'NzAwODRmNjUtN2Y5Yy00ODhiLWJlM2UtZDE5ZmU0YWZiOTli', 'titre': \"Systèmes d'IA à\\xa0haut risque visés à\\xa0l'article\\xa06, paragraphe\\xa02\", 'nature': 'annexe', 'url': 'https://eur-lex.europa.eu/legal-content/FR/TXT/HTML/?uri=OJ:L_202401689#anx_III', 'url_chapitre': 'https://eur-lex.europa.eu/legal-content/FR/TXT/HTML/?uri=OJ:L_202401689##anx_I', 'url_section': None}Content: d)\n",
      "\n",
      "\n",
      "systèmes d'IA destinés à être utilisés par les autorités répressives ou par les institutions, organes et organismes de l'Union, ou en leur nom, en soutien aux autorités répressives pour évaluer le risque qu'une personne physique commette une infraction ou récidive, sans se fonder uniquement sur le profilage des personnes physiques visé à l'article 3, paragraphe 4, de la directive (UE) 2016/680, ou pour évaluer les traits de personnalité, les caractéristiques ou les antécédents judiciaires de personnes physiques ou de groupes;\n",
      "\n",
      "\n",
      "\n",
      "\n",
      "\n",
      "\n",
      "\n",
      "\n",
      "\n",
      "\n",
      "e)\n",
      "\n",
      "\n",
      "systèmes d'IA destinés à être utilisés par les autorités répressives ou par les institutions, organes et organismes de l'Union, ou en leur nom, en soutien aux autorités répressives pour le profilage de personnes physiques visé à l'article 3, paragraphe 4, de la directive (UE) 2016/680 dans le cadre de la détection d'infractions pénales, d'enquêtes ou de poursuites en la matière ou de l'exécution de sanctions pénales.\n",
      "\n",
      "\n",
      "\n",
      "\n",
      "\n",
      "\n",
      "\n",
      "\n",
      "\n",
      "\n",
      "\n",
      "\n",
      "\n",
      "\n",
      "7.\n",
      "Source: {'id': 'YzRhZDBkYTItZTI4NC00ZTIzLWJmYjItZmJlNGY0MWUxZTUz', 'titre': \"Systèmes d'IA à\\xa0haut risque visés à\\xa0l'article\\xa06, paragraphe\\xa02\", 'nature': 'annexe', 'url': 'https://eur-lex.europa.eu/legal-content/FR/TXT/HTML/?uri=OJ:L_202401689#anx_III', 'url_chapitre': 'https://eur-lex.europa.eu/legal-content/FR/TXT/HTML/?uri=OJ:L_202401689##anx_I', 'url_section': None}Content: b)\n",
      "\n",
      "\n",
      "systèmes d'IA destinés à être utilisés pour évaluer la solvabilité des personnes physiques ou pour établir leur note de crédit, à l'exception des systèmes d'IA utilisés à des fins de détection de fraudes financières;\n",
      "\n",
      "\n",
      "\n",
      "\n",
      "\n",
      "\n",
      "\n",
      "\n",
      "\n",
      "\n",
      "c)\n",
      "\n",
      "\n",
      "systèmes d'IA destinés à être utilisés pour l'évaluation des risques et la tarification en ce qui concerne les personnes physiques en matière d'assurance-vie et d'assurance maladie;\n",
      "\n",
      "\n",
      "\n",
      "\n",
      "\n",
      "\n",
      "\n",
      "\n",
      "\n",
      "\n",
      "d)\n",
      "\n",
      "\n",
      "systèmes d'IA destinés à évaluer et hiérarchiser les appels d'urgence émanant de personnes physiques ou à être utilisés pour envoyer ou établir des priorités dans l'envoi des services d'intervention d'urgence, y compris par la police, les pompiers et l'assistance médicale, ainsi que pour les systèmes de tri des patients admis dans les services de santé d'urgence.\n",
      "\n",
      "\n",
      "\n",
      "\n",
      "\n",
      "\n",
      "\n",
      "\n",
      "\n",
      "\n",
      "\n",
      "\n",
      "\n",
      "\n",
      "6.\n",
      "\n",
      "\n",
      "Répression, dans la mesure où leur utilisation est autorisée par le droit de l'Union ou le droit national applicable:\n",
      "\n",
      "\n",
      "\n",
      "\n",
      "\n",
      "\n",
      "a)\n",
      "Source: {'id': 'YjczNjBmZTQtNGE4Yi00OGFmLWI0MTgtNTBhOGIyMTRkM2Yy', 'titre': \"Systèmes d'IA à\\xa0haut risque visés à\\xa0l'article\\xa06, paragraphe\\xa02\", 'nature': 'annexe', 'url': 'https://eur-lex.europa.eu/legal-content/FR/TXT/HTML/?uri=OJ:L_202401689#anx_III', 'url_chapitre': 'https://eur-lex.europa.eu/legal-content/FR/TXT/HTML/?uri=OJ:L_202401689##anx_I', 'url_section': None}Content: c)\n",
      "\n",
      "\n",
      "systèmes d'IA destinés à être utilisés pour évaluer le niveau d'enseignement approprié qu'une personne recevra ou sera en mesure d'atteindre, dans le contexte ou au sein d'établissements d'enseignement et de formation professionnelle à tous les niveaux;\n",
      "\n",
      "\n",
      "\n",
      "\n",
      "\n",
      "\n",
      "\n",
      "\n",
      "\n",
      "\n",
      "d)\n",
      "\n",
      "\n",
      "systèmes d'IA destinés à être utilisés pour surveiller et détecter des comportements interdits chez les étudiants lors d'examens dans le contexte d'établissements d'enseignement et de formation ou en leur sein à tous les niveaux;\n",
      "\n",
      "\n",
      "\n",
      "\n",
      "\n",
      "\n",
      "\n",
      "\n",
      "\n",
      "\n",
      "\n",
      "\n",
      "\n",
      "\n",
      "4.\n",
      "\n",
      "\n",
      "Emploi, gestion de la main-d'œuvre et accès à l'emploi indépendant:\n",
      "\n",
      "\n",
      "\n",
      "\n",
      "\n",
      "\n",
      "a)\n",
      "\n",
      "\n",
      "systèmes d'IA destinés à être utilisés pour le recrutement ou la sélection de personnes physiques, en particulier pour publier des offres d'emploi ciblées, analyser et filtrer les candidatures et évaluer les candidats;\n",
      "\n",
      "\n",
      "\n",
      "\n",
      "\n",
      "\n",
      "\n",
      "\n",
      "\n",
      "\n",
      "b)\n",
      "==================================\u001b[1m Ai Message \u001b[0m==================================\n",
      "\n",
      "Les annexes qui abordent l'application des algorithmes de reconnaissance faciale dans le contexte de l'AI Act incluent des références aux systèmes d'IA utilisés dans le domaine de la **biométrie**, comme mentionné dans **l'annexe III** des systèmes d'IA à haut risque. Les dispositions pertinentes sont les suivantes :\n",
      "\n",
      "1. **Systèmes d'identification biométrique à distance** : Ces systèmes permettent de reconnaître une personne sur la base de ses traits biométriques à distance. Cependant, les systèmes utilisés uniquement pour vérifier qu'une personne est bien celle qu'elle prétend être ne sont pas inclus dans cette catégorie à haut risque. [Titre](https://eur-lex.europa.eu/legal-content/FR/TXT/HTML/?uri=OJ:L_202401689#anx_III).\n",
      "\n",
      "2. **Systèmes d'IA destinés à des fins de catégorisation biométrique** : Ces systèmes analysent des attributs ou des caractéristiques sensibles ou protégées pour en déduire des informations biométriques ou catégoriques. [Titre](https://eur-lex.europa.eu/legal-content/FR/TXT/HTML/?uri=OJ:L_202401689#anx_III).\n",
      "\n",
      "3. **Systèmes d'IA pour la reconnaissance des émotions** : Bien que reliés à des principes biométriques, ces systèmes sont aussi considérés comme haut risque lorsqu'ils utilisent les données faciales pour détecter ou interpréter les émotions humaines. [Titre](https://eur-lex.europa.eu/legal-content/FR/TXT/HTML/?uri=OJ:L_202401689#anx_III).\n",
      "\n",
      "Ainsi, ces trois catégories d'algorithmes liés à la reconnaissance faciale relèvent de l'annexe III qui définit les systèmes d'IA à haut risque au sens de l'article 6, paragraphe 2.\n"
     ]
    }
   ],
   "source": [
    "from time import time\n",
    "config = {\"configurable\": {\"thread_id\": f\"{time()}\"}}\n",
    "for step in rag_chat.stream(\n",
    "    {\n",
    "        \"messages\":[\n",
    "            {\"role\": \"user\", \"content\": \"Quels annexes address l'application d'algorithme de reconnaissance facial ?\"}\n",
    "        ]\n",
    "    },\n",
    "    stream_mode=\"values\",\n",
    "    config=config\n",
    "):\n",
    "    step[\"messages\"][-1].pretty_print()"
   ]
  },
  {
   "cell_type": "code",
   "execution_count": null,
   "id": "764b856a",
   "metadata": {},
   "outputs": [],
   "source": []
  }
 ],
 "metadata": {
  "kernelspec": {
   "display_name": ".venv",
   "language": "python",
   "name": "python3"
  },
  "language_info": {
   "codemirror_mode": {
    "name": "ipython",
    "version": 3
   },
   "file_extension": ".py",
   "mimetype": "text/x-python",
   "name": "python",
   "nbconvert_exporter": "python",
   "pygments_lexer": "ipython3",
   "version": "3.13.3"
  }
 },
 "nbformat": 4,
 "nbformat_minor": 5
}
